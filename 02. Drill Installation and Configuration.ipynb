{
 "cells": [
  {
   "cell_type": "markdown",
   "metadata": {},
   "source": [
    "## 1.Installation"
   ]
  },
  {
   "cell_type": "markdown",
   "metadata": {},
   "source": [
    "```shell\n",
    "$ tar -xzvf apache-drill-<version>.tar.gz\n",
    "$ scp -r apache-drill-<version> username@10.0.0.4\n",
    "$ scp -r apache-drill-<version> username@10.0.0.5\n",
    "```"
   ]
  },
  {
   "cell_type": "markdown",
   "metadata": {},
   "source": [
    "## 2. Configuration"
   ]
  },
  {
   "cell_type": "markdown",
   "metadata": {},
   "source": [
    "```shell\n",
    "$ cd $DRILL_HOME/conf\n",
    "$ vi drill-override.conf\n",
    "```\n",
    "\n",
    "```\n",
    "# ZooKeeper 설정 생략\n",
    "drill.exec:{\n",
    "  cluster-id: \"<mydrillcluster>\",\n",
    "  zk.connect: \"<zkhostname1>:<port>,<zkhostname2>:<port>,<zkhostname3>:<port>\"\n",
    "}\n",
    "```\n",
    "\n",
    "```shell\n",
    "$ cd $DRILL_HOME/conf\n",
    "$ vi core-site.xml\n",
    "```\n",
    "\n",
    "```xml\n",
    "<configuration>\n",
    "\n",
    "    <property>\n",
    "        <name>fs.s3a.access.key</name>\n",
    "        <value>ENTER_YOUR_ACCESSKEY</value>\n",
    "    </property>\n",
    "\n",
    "    <property>\n",
    "        <name>fs.s3a.secret.key</name>\n",
    "        <value>ENTER_YOUR_SECRETKEY</value>\n",
    "    </property>\n",
    "\n",
    "    <property>\n",
    "        <name>fs.azure.account.key.YOUR_ACCOUNT.blob.core.windows.net</name>\n",
    "        <value>YOUR AZURE ACCESS KEY</value>\n",
    "    </property>\n",
    "\n",
    "</configuration>\n",
    "```"
   ]
  },
  {
   "cell_type": "markdown",
   "metadata": {},
   "source": [
    "## 3. Intstallation JARs related with Azure"
   ]
  },
  {
   "cell_type": "markdown",
   "metadata": {},
   "source": [
    "```shell\n",
    "$ cd $DRILL_HOME/jars/3rdparty\n",
    "$ wget http://central.maven.org/maven2/org/apache/hadoop/hadoop-azure/2.7.1/hadoop-azure-2.7.1.jar\n",
    "$ wget http://central.maven.org/maven2/com/microsoft/azure/azure-storage/4.2.0/azure-storage-4.2.0.jar\n",
    "$ cd $DRILL_HOME\n",
    "$ scp -r apache-drill-<version> username@10.0.0.4\n",
    "$ scp -r apache-drill-<version> username@10.0.0.5\n",
    "```"
   ]
  },
  {
   "cell_type": "markdown",
   "metadata": {},
   "source": [
    "https://github.com/choochangho/drill-blob"
   ]
  },
  {
   "cell_type": "markdown",
   "metadata": {},
   "source": [
    "## 4. Running Drill"
   ]
  },
  {
   "cell_type": "markdown",
   "metadata": {},
   "source": [
    "```shell\n",
    "# 모든 노드에서 실행\n",
    "$ cd $DRILL_HOME\n",
    "$ bin/drillbit.sh [start|stop..]\n",
    "```"
   ]
  },
  {
   "cell_type": "markdown",
   "metadata": {},
   "source": [
    "## 5. Add Storage"
   ]
  },
  {
   "cell_type": "markdown",
   "metadata": {},
   "source": [
    "http://wznode01.cloudapp.net:8047/"
   ]
  },
  {
   "cell_type": "markdown",
   "metadata": {},
   "source": [
    "```json\n",
    "{\n",
    "  \"type\": \"file\",\n",
    "  \"enabled\": true,\n",
    "  \"connection\": \"wasb://drill@webzen.blob.core.windows.net/\",\n",
    "  \"config\": null,\n",
    "  \"workspaces\": {\n",
    "    \"root\": {\n",
    "      \"location\": \"/\",\n",
    "      \"writable\": false,\n",
    "      \"defaultInputFormat\": null\n",
    "    },\n",
    "    \"tmp\": {\n",
    "      \"location\": \"/tmp\",\n",
    "      \"writable\": true,\n",
    "      \"defaultInputFormat\": null\n",
    "    }\n",
    "  },\n",
    "  \"formats\": {\n",
    "    \"psv\": {\n",
    "      \"type\": \"text\",\n",
    "      \"extensions\": [\n",
    "        \"tbl\"\n",
    "      ],\n",
    "      \"delimiter\": \"|\"\n",
    "    },\n",
    "    \"csv\": {\n",
    "      \"type\": \"text\",\n",
    "      \"extensions\": [\n",
    "        \"csv\"\n",
    "      ],\n",
    "      \"delimiter\": \",\"\n",
    "    },\n",
    "    \"tsv\": {\n",
    "      \"type\": \"text\",\n",
    "      \"extensions\": [\n",
    "        \"tsv\"\n",
    "      ],\n",
    "      \"delimiter\": \"\\t\"\n",
    "    },\n",
    "    \"parquet\": {\n",
    "      \"type\": \"parquet\"\n",
    "    },\n",
    "    \"json\": {\n",
    "      \"type\": \"json\",\n",
    "      \"extensions\": [\n",
    "        \"json\"\n",
    "      ]\n",
    "    },\n",
    "    \"avro\": {\n",
    "      \"type\": \"avro\"\n",
    "    },\n",
    "    \"sequencefile\": {\n",
    "      \"type\": \"sequencefile\",\n",
    "      \"extensions\": [\n",
    "        \"seq\"\n",
    "      ]\n",
    "    },\n",
    "    \"csvh\": {\n",
    "      \"type\": \"text\",\n",
    "      \"extensions\": [\n",
    "        \"csvh\"\n",
    "      ],\n",
    "      \"extractHeader\": true,\n",
    "      \"delimiter\": \",\"\n",
    "    }\n",
    "  }\n",
    "}\n",
    "```"
   ]
  },
  {
   "cell_type": "code",
   "execution_count": null,
   "metadata": {
    "collapsed": true
   },
   "outputs": [],
   "source": []
  }
 ],
 "metadata": {
  "kernelspec": {
   "display_name": "Python 3",
   "language": "python",
   "name": "python3"
  },
  "language_info": {
   "codemirror_mode": {
    "name": "ipython",
    "version": 3
   },
   "file_extension": ".py",
   "mimetype": "text/x-python",
   "name": "python",
   "nbconvert_exporter": "python",
   "pygments_lexer": "ipython3",
   "version": "3.5.1"
  }
 },
 "nbformat": 4,
 "nbformat_minor": 0
}
