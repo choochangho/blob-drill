{
 "cells": [
  {
   "cell_type": "markdown",
   "metadata": {},
   "source": [
    "## 1. Very Very Simple Query Example"
   ]
  },
  {
   "cell_type": "code",
   "execution_count": 3,
   "metadata": {
    "collapsed": false
   },
   "outputs": [
    {
     "name": "stdout",
     "output_type": "stream",
     "text": [
      "        r_name                                          r_comment\n",
      "0       AFRICA  lar deposits. blithely final packages cajole. ...\n",
      "1      AMERICA                    hs use ironic, even requests. s\n",
      "2         ASIA                    ges. thinly even pinto beans ca\n",
      "3       EUROPE      ly final courts cajole furiously final excuse\n",
      "4  MIDDLE EAST  uickly special accounts cajole carefully blith...\n"
     ]
    }
   ],
   "source": [
    "import pyodbc\n",
    "import pandas as pd\n",
    "from pandas import DataFrame\n",
    "\n",
    "# initialize the connection\n",
    "conn = pyodbc.connect(\"DSN=MapR ODBC Driver for Drill DSN\", autocommit=True)\n",
    "cursor = conn.cursor()\n",
    " \n",
    "# setup the query\n",
    "s = '''\n",
    "SELECT \n",
    "    r_name, r_comment\n",
    "FROM \n",
    "    `azure`.`root`.`/data/compressed_json_data/region/region.json.gz`\n",
    "'''\n",
    "\n",
    "df = pd.read_sql(s, conn)\n",
    "print(df)\n",
    "\n",
    "# conn.close()"
   ]
  },
  {
   "cell_type": "markdown",
   "metadata": {},
   "source": [
    "## 2. Little More Complicated Query Example"
   ]
  },
  {
   "cell_type": "code",
   "execution_count": 57,
   "metadata": {
    "collapsed": false
   },
   "outputs": [
    {
     "name": "stdout",
     "output_type": "stream",
     "text": [
      "   l_orderkey        revenue o_orderdate o_shippriority\n",
      "0    21679558  442394.375000  1995-01-17              0\n",
      "1     8443557  429378.667969  1995-03-12              0\n",
      "2    10631491  423595.958984  1995-03-14              0\n",
      "3    20841824  421258.042969  1995-03-08              0\n",
      "4    11568359  418888.554688  1995-03-13              0\n",
      "5    10725895  399668.425781  1995-03-12              0\n",
      "6    20811973  399662.477051  1995-02-13              0\n",
      "7    17937728  396726.318359  1995-03-12              0\n",
      "8     6128295  393717.726562  1995-03-05              0\n",
      "9    21236614  392019.317871  1995-03-14              0\n",
      "10   13946112  391537.152344  1995-03-08              0\n",
      "11   17274565  387939.200195  1995-03-13              0\n",
      "12   14579109  387503.875000  1995-03-07              0\n",
      "13    4736678  383267.675293  1995-03-03              0\n",
      "14   18344033  382807.388672  1995-02-11              0\n",
      "15    3386209  382784.812500  1995-03-10              0\n",
      "16   15655777  381756.785156  1995-02-23              0\n",
      "17   21796837  381371.184570  1995-03-06              0\n",
      "18    2192676  380806.808594  1995-03-07              0\n",
      "19   10569984  380702.968750  1995-03-07              0\n"
     ]
    }
   ],
   "source": [
    "# Litle More Complicated Query\n",
    "# TPC-H Query 3\n",
    "# will take about 1 minute\n",
    "\n",
    "s = '''\n",
    "SELECT\n",
    "    l.l_orderkey,\n",
    "    sum(CAST(l.l_extendedprice as FLOAT(5, 2)) * (1 - CAST(l.l_discount as FLOAT(1, 2)))) as revenue,\n",
    "    o.o_orderdate,\n",
    "    o.o_shippriority\n",
    "FROM\n",
    "    `azure`.`root`.`/data/compressed_json_data/customer/*.json.gz` as c,\n",
    "    `azure`.`root`.`/data/compressed_json_data/orders/*.json.gz` as o,\n",
    "    `azure`.`root`.`/data/compressed_json_data/lineitem/*.json.gz` as l\n",
    "WHERE\n",
    "    c.c_mktsegment = 'BUILDING'\n",
    "    AND c.c_custkey = o.o_custkey\n",
    "    AND l.l_orderkey = o.o_orderkey\n",
    "    AND o.o_orderdate < '1995-03-15'\n",
    "    AND l.l_shipdate > '1995-03-15'\n",
    "GROUP BY\n",
    "    l.l_orderkey,\n",
    "    o.o_orderdate,\n",
    "    o.o_shippriority\n",
    "ORDER BY\n",
    "    revenue desc,\n",
    "    o.o_orderdate\n",
    "LIMIT 20\n",
    "'''\n",
    "\n",
    "df = pd.read_sql(s, conn)\n",
    "print(df)\n",
    "\n",
    "#cursor.execute(s)\n",
    "#print(cursor.fetchall())"
   ]
  },
  {
   "cell_type": "markdown",
   "metadata": {},
   "source": [
    "## 3. Window Function Example"
   ]
  },
  {
   "cell_type": "code",
   "execution_count": 58,
   "metadata": {
    "collapsed": false
   },
   "outputs": [
    {
     "name": "stdout",
     "output_type": "stream",
     "text": [
      "  o_custkey  EXPR$1              c_name\n",
      "0    535240      45  Customer#000535240\n",
      "1    226726      43  Customer#000226726\n",
      "2     68728      42  Customer#000068728\n",
      "3    357124      41  Customer#000357124\n",
      "4    376498      41  Customer#000376498\n",
      "5    587662      41  Customer#000587662\n",
      "6    240751      40  Customer#000240751\n",
      "7    576745      40  Customer#000576745\n",
      "8    550000      40  Customer#000550000\n",
      "9    411607      40  Customer#000411607\n"
     ]
    }
   ],
   "source": [
    "# will take about 25 seconds\n",
    "\n",
    "s = '''\n",
    "SELECT\n",
    "    o.o_custkey, COUNT(o.o_custkey), c.c_name \n",
    "FROM\n",
    "    `azure`.`root`.`/data/compressed_json_data/orders/*.json.gz` as o, \n",
    "    `azure`.`root`.`/data/compressed_json_data/customer/*.json.gz` as c \n",
    "WHERE \n",
    "    o.o_custkey = c.c_custkey \n",
    "GROUP BY\n",
    "    o.o_custkey, c.c_name  \n",
    "ORDER BY\n",
    "    COUNT(o.o_custkey) DESC \n",
    "LIMIT 10\n",
    "'''\n",
    "\n",
    "df = pd.read_sql(s, conn)\n",
    "print(df)"
   ]
  },
  {
   "cell_type": "code",
   "execution_count": null,
   "metadata": {
    "collapsed": true
   },
   "outputs": [],
   "source": []
  }
 ],
 "metadata": {
  "kernelspec": {
   "display_name": "Python 3",
   "language": "python",
   "name": "python3"
  },
  "language_info": {
   "codemirror_mode": {
    "name": "ipython",
    "version": 3
   },
   "file_extension": ".py",
   "mimetype": "text/x-python",
   "name": "python",
   "nbconvert_exporter": "python",
   "pygments_lexer": "ipython3",
   "version": "3.5.1"
  }
 },
 "nbformat": 4,
 "nbformat_minor": 0
}
