{
 "cells": [
  {
   "cell_type": "markdown",
   "metadata": {},
   "source": [
    "## Drill Shell 접속"
   ]
  },
  {
   "cell_type": "markdown",
   "metadata": {},
   "source": [
    "```shell\n",
    "$ cd $DRILL_HOME/bin\n",
    "$ ./drill-conf\n",
    "apache drill 1.6.0\n",
    "\"got drill?\"\n",
    "0: jdbc:drill:>\n",
    "```"
   ]
  },
  {
   "cell_type": "markdown",
   "metadata": {},
   "source": [
    "## Schema 조회"
   ]
  },
  {
   "cell_type": "markdown",
   "metadata": {},
   "source": [
    "```shell\n",
    "0: jdbc:drill:> show databases;\n",
    "+---------------------+\n",
    "|     SCHEMA_NAME     |\n",
    "+---------------------+\n",
    "| INFORMATION_SCHEMA  |\n",
    "| azure.default       |\n",
    "| azure.root          |\n",
    "| cp.default          |\n",
    "| dfs.default         |\n",
    "| dfs.root            |\n",
    "| dfs.tmp             |\n",
    "| sys                 |\n",
    "+---------------------+\n",
    "8 rows selected (0.326 seconds)\n",
    "0: jdbc:drill:>\n",
    "```"
   ]
  },
  {
   "cell_type": "markdown",
   "metadata": {},
   "source": [
    "## Querying Plain Text File"
   ]
  },
  {
   "cell_type": "markdown",
   "metadata": {},
   "source": [
    "```shell\n",
    "0: jdbc:drill:> SELECT * FROM `azure`.`root`.`/data/original/customer.tbl` limit 10;\n",
    "+---------+\n",
    "| columns |\n",
    "+---------+\n",
    "| [\"1\",\"Customer#000000001\",\"IVhzIApeRb ot,c,E\",\"15\",\"25-989-741-2988\",\"711.56\",\"BUILDING\",\"to the even, regular platelets. regular, ironic epitaphs nag e\",\"\"] |\n",
    "| [\"2\",\"Customer#000000002\",\"XSTf4,NCwDVaWNe6tEgvwfmRchLXak\",\"13\",\"23-768-687-3665\",\"121.65\",\"AUTOMOBILE\",\"l accounts. blithely ironic theodolites integrate boldly: caref\",\"\"] |\n",
    "| [\"3\",\"Customer#000000003\",\"MG9kdTD2WBHm\",\"1\",\"11-719-748-3364\",\"7498.12\",\"AUTOMOBILE\",\" deposits eat slyly ironic, even instructions. express foxes detect slyly. blithely even accounts abov\",\"\"] |\n",
    "| [\"4\",\"Customer#000000004\",\"XxVSJsLAGtn\",\"4\",\"14-128-190-5944\",\"2866.83\",\"MACHINERY\",\" requests. final, regular ideas sleep final accou\",\"\"] |\n",
    "| [\"5\",\"Customer#000000005\",\"KvpyuHCplrB84WgAiGV6sYpZq7Tj\",\"3\",\"13-750-942-6364\",\"794.47\",\"HOUSEHOLD\",\"n accounts will have to unwind. foxes cajole accor\",\"\"] |\n",
    "| [\"6\",\"Customer#000000006\",\"sKZz0CsnMD7mp4Xd0YrBvx,LREYKUWAh yVn\",\"20\",\"30-114-968-4951\",\"7638.57\",\"AUTOMOBILE\",\"tions. even deposits boost according to the slyly bold packages. final accounts cajole requests. furious\",\"\"] |\n",
    "| [\"7\",\"Customer#000000007\",\"TcGe5gaZNgVePxU5kRrvXBfkasDTea\",\"18\",\"28-190-982-9759\",\"9561.95\",\"AUTOMOBILE\",\"ainst the ironic, express theodolites. express, even pinto beans among the exp\",\"\"] |\n",
    "| [\"8\",\"Customer#000000008\",\"I0B10bB0AymmC, 0PrRYBCP1yGJ8xcBPmWhl5\",\"17\",\"27-147-574-9335\",\"6819.74\",\"BUILDING\",\"among the slyly regular theodolites kindle blithely courts. carefully even theodolites haggle slyly along the ide\",\"\"] |\n",
    "| [\"9\",\"Customer#000000009\",\"xKiAFTjUsCuxfeleNqefumTrjS\",\"8\",\"18-338-906-3675\",\"8324.07\",\"FURNITURE\",\"r theodolites according to the requests wake thinly excuses: pending requests haggle furiousl\",\"\"] |\n",
    "| [\"10\",\"Customer#000000010\",\"6LrEaV6KR6PLVcgl2ArL Q3rqzLzcT1 v2\",\"5\",\"15-741-346-9870\",\"2753.54\",\"HOUSEHOLD\",\"es regular deposits haggle. fur\",\"\"] |\n",
    "+---------+\n",
    "10 rows selected (0.947 seconds)\n",
    "0: jdbc:drill:> select columns[0], columns[1], columns[2] from `azure`.`root`.`/data/original/customer.tbl` limit 10;\n",
    "+---------+---------------------+----------------------------------------+\n",
    "| EXPR$0  |       EXPR$1        |                 EXPR$2                 |\n",
    "+---------+---------------------+----------------------------------------+\n",
    "| 1       | Customer#000000001  | IVhzIApeRb ot,c,E                      |\n",
    "| 2       | Customer#000000002  | XSTf4,NCwDVaWNe6tEgvwfmRchLXak         |\n",
    "| 3       | Customer#000000003  | MG9kdTD2WBHm                           |\n",
    "| 4       | Customer#000000004  | XxVSJsLAGtn                            |\n",
    "| 5       | Customer#000000005  | KvpyuHCplrB84WgAiGV6sYpZq7Tj           |\n",
    "| 6       | Customer#000000006  | sKZz0CsnMD7mp4Xd0YrBvx,LREYKUWAh yVn   |\n",
    "| 7       | Customer#000000007  | TcGe5gaZNgVePxU5kRrvXBfkasDTea         |\n",
    "| 8       | Customer#000000008  | I0B10bB0AymmC, 0PrRYBCP1yGJ8xcBPmWhl5  |\n",
    "| 9       | Customer#000000009  | xKiAFTjUsCuxfeleNqefumTrjS             |\n",
    "| 10      | Customer#000000010  | 6LrEaV6KR6PLVcgl2ArL Q3rqzLzcT1 v2     |\n",
    "+---------+---------------------+----------------------------------------+\n",
    "10 rows selected (0.865 seconds)\n",
    "```"
   ]
  },
  {
   "cell_type": "markdown",
   "metadata": {},
   "source": [
    "## Querying Uncompressed JSON Files"
   ]
  },
  {
   "cell_type": "markdown",
   "metadata": {},
   "source": [
    "```shell\n",
    "0: jdbc:drill:> select c_acctbal, c_mktsegment, c_custkey from `azure`.`root`.`/data/uncompressed_json_data/customer/*.json` limit 10;\n",
    "+------------+---------------+------------+\n",
    "| c_acctbal  | c_mktsegment  | c_custkey  |\n",
    "+------------+---------------+------------+\n",
    "| 711.56     | BUILDING      | 1          |\n",
    "| 121.65     | AUTOMOBILE    | 2          |\n",
    "| 7498.12    | AUTOMOBILE    | 3          |\n",
    "| 2866.83    | MACHINERY     | 4          |\n",
    "| 794.47     | HOUSEHOLD     | 5          |\n",
    "| 7638.57    | AUTOMOBILE    | 6          |\n",
    "| 9561.95    | AUTOMOBILE    | 7          |\n",
    "| 6819.74    | BUILDING      | 8          |\n",
    "| 8324.07    | FURNITURE     | 9          |\n",
    "| 2753.54    | HOUSEHOLD     | 10         |\n",
    "+------------+---------------+------------+\n",
    "10 rows selected (0.806 seconds)\n",
    "```"
   ]
  },
  {
   "cell_type": "markdown",
   "metadata": {},
   "source": [
    "## Querying Compressed JSON Files"
   ]
  },
  {
   "cell_type": "markdown",
   "metadata": {},
   "source": [
    "```shell\n",
    "0: jdbc:drill:> select c_acctbal, c_mktsegment, c_custkey from `azure`.`root`.`/data/compressed_json_data/customer/*.json.gz` limit 10;\n",
    "+------------+---------------+------------+\n",
    "| c_acctbal  | c_mktsegment  | c_custkey  |\n",
    "+------------+---------------+------------+\n",
    "| 711.56     | BUILDING      | 1          |\n",
    "| 121.65     | AUTOMOBILE    | 2          |\n",
    "| 7498.12    | AUTOMOBILE    | 3          |\n",
    "| 2866.83    | MACHINERY     | 4          |\n",
    "| 794.47     | HOUSEHOLD     | 5          |\n",
    "| 7638.57    | AUTOMOBILE    | 6          |\n",
    "| 9561.95    | AUTOMOBILE    | 7          |\n",
    "| 6819.74    | BUILDING      | 8          |\n",
    "| 8324.07    | FURNITURE     | 9          |\n",
    "| 2753.54    | HOUSEHOLD     | 10         |\n",
    "+------------+---------------+------------+\n",
    "10 rows selected (0.732 seconds)\n",
    "```"
   ]
  },
  {
   "cell_type": "code",
   "execution_count": null,
   "metadata": {
    "collapsed": true
   },
   "outputs": [],
   "source": []
  }
 ],
 "metadata": {
  "kernelspec": {
   "display_name": "Python 3",
   "language": "python",
   "name": "python3"
  },
  "language_info": {
   "codemirror_mode": {
    "name": "ipython",
    "version": 3
   },
   "file_extension": ".py",
   "mimetype": "text/x-python",
   "name": "python",
   "nbconvert_exporter": "python",
   "pygments_lexer": "ipython3",
   "version": "3.5.1"
  }
 },
 "nbformat": 4,
 "nbformat_minor": 0
}
