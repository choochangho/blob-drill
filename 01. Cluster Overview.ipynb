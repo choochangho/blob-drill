{
 "cells": [
  {
   "cell_type": "markdown",
   "metadata": {
    "collapsed": true
   },
   "source": [
    "## 1. VM 구성"
   ]
  },
  {
   "cell_type": "markdown",
   "metadata": {},
   "source": [
    "HostName | Memory (GB) | CPU Cores | Role | Region\n",
    "---|---|---|---|---\n",
    "wznode1.cloudapp.net|28|4|ZooKeeper, Drill|Japan West\n",
    "wznode2.cloudapp.net|28|4|Driil|Japan West\n",
    "wznode3.cloudapp.net|28|4|Drill|Japan West"
   ]
  },
  {
   "cell_type": "markdown",
   "metadata": {},
   "source": [
    "## 2. Blob Storage"
   ]
  },
  {
   "cell_type": "markdown",
   "metadata": {},
   "source": [
    "### 2.1 File 구성 및 구조"
   ]
  },
  {
   "cell_type": "markdown",
   "metadata": {},
   "source": [
    "- compressed json data ( gzip )\n",
    "- uncompressed json data\n",
    "- plain data"
   ]
  },
  {
   "cell_type": "markdown",
   "metadata": {},
   "source": [
    "### 2.2 Table 구성"
   ]
  },
  {
   "cell_type": "markdown",
   "metadata": {},
   "source": [
    "TPC-H dbgen 을 이용하여 데이터 생성(Scale: 4)\n",
    "\n",
    "Table Name | Data Counts\n",
    "---|---:\n",
    "customer|600,000\n",
    "lineitem|23,996,604\n",
    "nation|25\n",
    "orders|6,000,000\n",
    "part|800,000\n",
    "partsupp|3,200,000\n",
    "region|5\n",
    "supplier|40,000\n",
    "\n"
   ]
  },
  {
   "cell_type": "markdown",
   "metadata": {},
   "source": [
    "## 3. OS"
   ]
  },
  {
   "cell_type": "markdown",
   "metadata": {},
   "source": [
    "ubuntu 14.04 LTS\n",
    "\n",
    "```shell\n",
    "choochangho@wznode01:~$ uname -a\n",
    "Linux wznode01 3.19.0-56-generic #62~14.04.1-Ubuntu SMP Fri Mar 11 11:03:15 UTC 2016 x86_64 x86_64 x86_64 GNU/Linux\n",
    "choochangho@wznode01:~$ \n",
    "```"
   ]
  },
  {
   "cell_type": "markdown",
   "metadata": {},
   "source": [
    "## 4. JAVA"
   ]
  },
  {
   "cell_type": "markdown",
   "metadata": {},
   "source": [
    "jdk 7 이상\n",
    "\n",
    "```shell\n",
    "choochangho@wznode01:~$ java -version\n",
    "java version \"1.7.0_80\"\n",
    "Java(TM) SE Runtime Environment (build 1.7.0_80-b15)\n",
    "Java HotSpot(TM) 64-Bit Server VM (build 24.80-b11, mixed mode)\n",
    "```"
   ]
  },
  {
   "cell_type": "markdown",
   "metadata": {},
   "source": [
    "## 5. Apache Drill"
   ]
  },
  {
   "cell_type": "markdown",
   "metadata": {},
   "source": [
    "- Version 1.6\n",
    "> http://mirror.navercorp.com/apache/drill/drill-1.6.0/apache-drill-1.6.0.tar.gz\n",
    "- MapR ODBC Installer\n",
    "> http://package.mapr.com/tools/MapR-ODBC/MapR_Drill/MapRDrill_odbc_v1.2.1.1000/MapRDrillODBC64.msi\n",
    "- iODBC \n",
    "> ODBC Connection Test Tool\n",
    ">\n",
    "> http://www.iodbc.org/\n"
   ]
  },
  {
   "cell_type": "markdown",
   "metadata": {},
   "source": [
    "## 6. 기타 S/W"
   ]
  },
  {
   "cell_type": "markdown",
   "metadata": {},
   "source": [
    "- Python\n",
    "> Version : 3.5.x\n",
    ">\n",
    "> Usage : 분석도구 실행(pandas, numpy, jupyter 등), TPC-H file json 변환, Blob 파일 업/다운로드\n",
    "\n",
    "- Split (Linux Command Line Tool)\n",
    "> Usage : TPC-H file split \n",
    "\n",
    "- Microsoft Azure Storage Explorer\n",
    "> Usage : TPC-H 파일 업로드 및 컨테이너 관리\n"
   ]
  }
 ],
 "metadata": {
  "kernelspec": {
   "display_name": "Python 3",
   "language": "python",
   "name": "python3"
  },
  "language_info": {
   "codemirror_mode": {
    "name": "ipython",
    "version": 3
   },
   "file_extension": ".py",
   "mimetype": "text/x-python",
   "name": "python",
   "nbconvert_exporter": "python",
   "pygments_lexer": "ipython3",
   "version": "3.5.1"
  }
 },
 "nbformat": 4,
 "nbformat_minor": 0
}
